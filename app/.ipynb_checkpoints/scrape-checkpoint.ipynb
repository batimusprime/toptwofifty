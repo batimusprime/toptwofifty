{
 "cells": [
  {
   "cell_type": "code",
   "execution_count": 2,
   "metadata": {},
   "outputs": [],
   "source": [
    "from bs4 import BeautifulSoup\n",
    "\n",
    "\n",
    "#import raw HTML from local file\n",
    "l = []\n",
    "soup = BeautifulSoup(open('source.html'), \"html.parser\")\n",
    "\n",
    "td = soup.find_all('td')\n",
    "for t in td:\n",
    "    t.find_all('titleColumn')\n",
    "    oname = t.find_all('a')\n",
    "    for o in oname:\n",
    "        tex = o.text\n",
    "        #if len(tex)>1:\n",
    "        #    l.append(tex.splitlines())\n",
    "        if len(tex)>2:\n",
    "            l.append(tex)\n",
    "f= open(\"output.txt\",\"w+\")\n",
    "for i in l:\n",
    "    f.write(i + '\\n')"
   ]
  }
 ],
 "metadata": {
  "kernelspec": {
   "display_name": "Python 3",
   "language": "python",
   "name": "python3"
  },
  "language_info": {
   "codemirror_mode": {
    "name": "ipython",
    "version": 3
   },
   "file_extension": ".py",
   "mimetype": "text/x-python",
   "name": "python",
   "nbconvert_exporter": "python",
   "pygments_lexer": "ipython3",
   "version": "3.6.4"
  }
 },
 "nbformat": 4,
 "nbformat_minor": 2
}
